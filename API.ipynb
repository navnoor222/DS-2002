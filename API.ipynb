{
  "nbformat": 4,
  "nbformat_minor": 0,
  "metadata": {
    "colab": {
      "provenance": [],
      "authorship_tag": "ABX9TyOM9fwuxXs2ESj1D++98FlK",
      "include_colab_link": true
    },
    "kernelspec": {
      "name": "python3",
      "display_name": "Python 3"
    },
    "language_info": {
      "name": "python"
    }
  },
  "cells": [
    {
      "cell_type": "markdown",
      "metadata": {
        "id": "view-in-github",
        "colab_type": "text"
      },
      "source": [
        "<a href=\"https://colab.research.google.com/github/navnoor222/hello-word/blob/main/API.ipynb\" target=\"_parent\"><img src=\"https://colab.research.google.com/assets/colab-badge.svg\" alt=\"Open In Colab\"/></a>"
      ]
    },
    {
      "cell_type": "code",
      "execution_count": 2,
      "metadata": {
        "colab": {
          "base_uri": "https://localhost:8080/"
        },
        "id": "nODG7yV-QUCL",
        "outputId": "bd7c7e55-9913-4e26-d7b0-517d25bc9546"
      },
      "outputs": [
        {
          "output_type": "stream",
          "name": "stdout",
          "text": [
            "Enter a country name: USA\n",
            "Country information saved to countries_info.json\n",
            "{'Country': 'USA', 'Capital': 'Washington, D.C.', 'Population': 329484123}\n"
          ]
        },
        {
          "output_type": "stream",
          "name": "stderr",
          "text": [
            "<ipython-input-2-c800ab6a67b7>:36: FutureWarning: The frame.append method is deprecated and will be removed from pandas in a future version. Use pandas.concat instead.\n",
            "  data_df = data_df.append(data, ignore_index=True)\n"
          ]
        }
      ],
      "source": [
        "import requests\n",
        "import pandas as pd\n",
        "\n",
        "# Function to fetch country information\n",
        "def fetch_country_info(country_name):\n",
        "    try:\n",
        "        # API call to REST Countries\n",
        "        response = requests.get(f'https://restcountries.com/v3.1/name/{country_name}')\n",
        "        response.raise_for_status()  # Raise an error for bad status codes\n",
        "\n",
        "        # Extract country info\n",
        "        country_info = response.json()[0]\n",
        "        capital = country_info['capital'][0] if 'capital' in country_info else 'No capital'\n",
        "        population = country_info['population']\n",
        "\n",
        "        return {\n",
        "            'Country': country_name,\n",
        "            'Capital': capital,\n",
        "            'Population': population\n",
        "        }\n",
        "    except requests.exceptions.HTTPError as http_err:\n",
        "        print(f\"HTTP error occurred: {http_err}\")\n",
        "        return None\n",
        "    except requests.exceptions.RequestException as err:\n",
        "        print(f\"An error occurred: {err}\")\n",
        "        return None\n",
        "    except IndexError:\n",
        "        print(\"Country not found. Please check the country name and try again.\")\n",
        "        return None\n",
        "\n",
        "# Function to save data to JSON\n",
        "def save_to_json(data, file_path):\n",
        "    # If file does not exist, write new file; else, append to existing file\n",
        "    try:\n",
        "        data_df = pd.read_json(file_path)\n",
        "        data_df = data_df.append(data, ignore_index=True)\n",
        "    except (ValueError, FileNotFoundError):\n",
        "        data_df = pd.DataFrame([data])\n",
        "\n",
        "    data_df.to_json(file_path, orient='records')\n",
        "\n",
        "def main():\n",
        "    # User input for country name\n",
        "    country_name = input(\"Enter a country name: \")\n",
        "    country_data = fetch_country_info(country_name)\n",
        "\n",
        "    # If country_data is valid, proceed to save it\n",
        "    if country_data:\n",
        "        json_file_path = 'countries_info.json'\n",
        "        save_to_json(country_data, json_file_path)\n",
        "        print(f\"Country information saved to {json_file_path}\")\n",
        "        print(country_data)\n",
        "\n",
        "if __name__ == \"__main__\":\n",
        "    main()\n"
      ]
    }
  ]
}