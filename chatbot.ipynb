{
  "nbformat": 4,
  "nbformat_minor": 0,
  "metadata": {
    "colab": {
      "provenance": [],
      "authorship_tag": "ABX9TyM4Cz4OQOI3CZ7qg/VJHKrv",
      "include_colab_link": true
    },
    "kernelspec": {
      "name": "python3",
      "display_name": "Python 3"
    },
    "language_info": {
      "name": "python"
    }
  },
  "cells": [
    {
      "cell_type": "markdown",
      "metadata": {
        "id": "view-in-github",
        "colab_type": "text"
      },
      "source": [
        "<a href=\"https://colab.research.google.com/github/navnoor222/hello-word/blob/main/chatbot.ipynb\" target=\"_parent\"><img src=\"https://colab.research.google.com/assets/colab-badge.svg\" alt=\"Open In Colab\"/></a>"
      ]
    },
    {
      "cell_type": "code",
      "execution_count": 2,
      "metadata": {
        "colab": {
          "base_uri": "https://localhost:8080/"
        },
        "id": "1gOt8ntFLqDo",
        "outputId": "f23b523f-5095-4eed-cf70-67016a91b36b"
      },
      "outputs": [
        {
          "output_type": "stream",
          "name": "stdout",
          "text": [
            "Hello! How can I help you today?\n",
            "The current weather in in is sunny.\n",
            "Goodbye! Have a great day!\n"
          ]
        }
      ],
      "source": [
        "# Import necessary libraries\n",
        "import requests\n",
        "\n",
        "def get_weather(city):\n",
        "    # Replace with actual API call\n",
        "    # For example using OpenWeatherMap:\n",
        "    # url = f\"http://api.openweathermap.org/data/2.5/weather?q={city}&appid=your_api_key\"\n",
        "    # response = requests.get(url).json()\n",
        "    # return response['weather'][0]['description']\n",
        "    return \"sunny\"  # Mock response\n",
        "\n",
        "def chatbot_response(text):\n",
        "    text = text.lower()\n",
        "    if \"hello\" in text or \"hi\" in text:\n",
        "        return \"Hello! How can I help you today?\"\n",
        "    elif \"goodbye\" in text or \"i'm done\" in text:\n",
        "        return \"Goodbye! Have a great day!\"\n",
        "    elif \"weather\" in text:\n",
        "        words = text.split()\n",
        "        city_index = words.index(\"weather\") + 1\n",
        "        city = words[city_index]\n",
        "        weather = get_weather(city)\n",
        "        return f\"The current weather in {city} is {weather}.\"\n",
        "    else:\n",
        "        return \"I'm not sure how to respond to that. Can you try asking something else?\"\n",
        "\n",
        "# Example of interaction with the chatbot\n",
        "print(chatbot_response(\"Hello\"))\n",
        "print(chatbot_response(\"Can you tell me the weather in New York?\"))\n",
        "print(chatbot_response(\"I'm done\"))\n"
      ]
    }
  ]
}